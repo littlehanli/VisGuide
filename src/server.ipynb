{
 "cells": [
  {
   "cell_type": "code",
   "execution_count": null,
   "metadata": {
    "scrolled": false
   },
   "outputs": [
    {
     "name": "stdout",
     "output_type": "stream",
     "text": [
      "set col feature: AQ dataset.\n",
      "set col feature: Transaction dataset.\n",
      "set col feature: YT dataset.\n",
      "set col feature: Covid dataset.\n",
      "setDataInfos Done\n",
      " * Serving Flask app \"__main__\" (lazy loading)\n",
      " * Environment: production\n",
      "   WARNING: This is a development server. Do not use it in a production deployment.\n",
      "   Use a production WSGI server instead.\n",
      " * Debug mode: off\n"
     ]
    },
    {
     "name": "stderr",
     "output_type": "stream",
     "text": [
      " * Running on http://127.0.0.1:5000/ (Press CTRL+C to quit)\n",
      "127.0.0.1 - - [12/Nov/2020 09:48:04] \"\u001b[37mPOST /get_datasets HTTP/1.1\u001b[0m\" 200 -\n"
     ]
    },
    {
     "name": "stdout",
     "output_type": "stream",
     "text": [
      "---server/get_datasets\n"
     ]
    },
    {
     "name": "stderr",
     "output_type": "stream",
     "text": [
      "127.0.0.1 - - [12/Nov/2020 09:48:09] \"\u001b[37mPOST /get_options HTTP/1.1\u001b[0m\" 200 -\n"
     ]
    },
    {
     "name": "stdout",
     "output_type": "stream",
     "text": [
      "---server/get_options\n",
      "Model from pretrain:  Covid\n"
     ]
    },
    {
     "name": "stderr",
     "output_type": "stream",
     "text": [
      "127.0.0.1 - - [12/Nov/2020 09:48:12] \"\u001b[37mPOST /get_init_chart HTTP/1.1\u001b[0m\" 200 -\n",
      "127.0.0.1 - - [12/Nov/2020 09:48:12] \"\u001b[37mPOST /get_seq_data HTTP/1.1\u001b[0m\" 200 -\n"
     ]
    },
    {
     "name": "stdout",
     "output_type": "stream",
     "text": [
      "---server/get_init_chart\n",
      "---server/getInitChart\n",
      "---server/getChartData\n",
      "---server/get_seq_data\n",
      "---server/get_vis_rec\n"
     ]
    },
    {
     "name": "stderr",
     "output_type": "stream",
     "text": [
      "127.0.0.1 - - [12/Nov/2020 09:48:21] \"\u001b[37mPOST /get_vis_rec HTTP/1.1\u001b[0m\" 200 -\n"
     ]
    },
    {
     "name": "stdout",
     "output_type": "stream",
     "text": [
      "getVisRec : 0.3430805206298828\n",
      "---server/getChartData\n",
      "---server/getChartData\n",
      "---server/getChartData\n",
      "---server/getChartData\n",
      "---server/getChartData\n",
      "---server/getChartData\n",
      "---server/getChartData\n"
     ]
    },
    {
     "name": "stderr",
     "output_type": "stream",
     "text": [
      "127.0.0.1 - - [12/Nov/2020 09:48:23] \"\u001b[37mPOST /get_seq_data HTTP/1.1\u001b[0m\" 200 -\n"
     ]
    },
    {
     "name": "stdout",
     "output_type": "stream",
     "text": [
      "---server/get_seq_data\n"
     ]
    },
    {
     "name": "stderr",
     "output_type": "stream",
     "text": [
      "[2020-11-12 09:48:30,125] ERROR in app: Exception on /get_vis_rec [POST]\n",
      "Traceback (most recent call last):\n",
      "  File \"C:\\Users\\user\\anaconda3\\lib\\site-packages\\flask\\app.py\", line 2446, in wsgi_app\n",
      "    response = self.full_dispatch_request()\n",
      "  File \"C:\\Users\\user\\anaconda3\\lib\\site-packages\\flask\\app.py\", line 1951, in full_dispatch_request\n",
      "    rv = self.handle_user_exception(e)\n",
      "  File \"C:\\Users\\user\\anaconda3\\lib\\site-packages\\flask\\app.py\", line 1820, in handle_user_exception\n",
      "    reraise(exc_type, exc_value, tb)\n",
      "  File \"C:\\Users\\user\\anaconda3\\lib\\site-packages\\flask\\_compat.py\", line 39, in reraise\n",
      "    raise value\n",
      "  File \"C:\\Users\\user\\anaconda3\\lib\\site-packages\\flask\\app.py\", line 1949, in full_dispatch_request\n",
      "    rv = self.dispatch_request()\n",
      "  File \"C:\\Users\\user\\anaconda3\\lib\\site-packages\\flask\\app.py\", line 1935, in dispatch_request\n",
      "    return self.view_functions[rule.endpoint](**req.view_args)\n",
      "  File \"<ipython-input-1-130067b3bc69>\", line 269, in get_vis_rec\n",
      "    model,init_model_option = Utility.trainRegression(train_X,decay_labels,model,init_model_option)\n",
      "  File \"D:\\_交大課程_\\VisGuide_Handover\\VisGuide-master\\src\\Utility.py\", line 222, in trainRegression\n",
      "    regressionModel = model.fit(X, y)\n",
      "AttributeError: 'NoneType' object has no attribute 'fit'\n",
      "127.0.0.1 - - [12/Nov/2020 09:48:30] \"\u001b[35m\u001b[1mPOST /get_vis_rec HTTP/1.1\u001b[0m\" 500 -\n"
     ]
    },
    {
     "name": "stdout",
     "output_type": "stream",
     "text": [
      "---server/get_vis_rec\n",
      "Train regression, len (y) =  7\n"
     ]
    },
    {
     "name": "stderr",
     "output_type": "stream",
     "text": [
      "127.0.0.1 - - [12/Nov/2020 09:48:51] \"\u001b[37mPOST /get_datasets HTTP/1.1\u001b[0m\" 200 -\n"
     ]
    },
    {
     "name": "stdout",
     "output_type": "stream",
     "text": [
      "---server/get_datasets\n"
     ]
    },
    {
     "name": "stderr",
     "output_type": "stream",
     "text": [
      "127.0.0.1 - - [12/Nov/2020 09:48:58] \"\u001b[37mPOST /get_options HTTP/1.1\u001b[0m\" 200 -\n"
     ]
    },
    {
     "name": "stdout",
     "output_type": "stream",
     "text": [
      "---server/get_options\n"
     ]
    },
    {
     "name": "stderr",
     "output_type": "stream",
     "text": [
      "127.0.0.1 - - [12/Nov/2020 09:49:01] \"\u001b[37mPOST /get_init_chart HTTP/1.1\u001b[0m\" 200 -\n",
      "127.0.0.1 - - [12/Nov/2020 09:49:01] \"\u001b[37mPOST /get_seq_data HTTP/1.1\u001b[0m\" 200 -\n"
     ]
    },
    {
     "name": "stdout",
     "output_type": "stream",
     "text": [
      "---server/get_init_chart\n",
      "---server/getInitChart\n",
      "---server/getChartData\n",
      "---server/get_seq_data\n"
     ]
    },
    {
     "name": "stderr",
     "output_type": "stream",
     "text": [
      "127.0.0.1 - - [12/Nov/2020 09:50:07] \"\u001b[37mPOST /get_vis_rec HTTP/1.1\u001b[0m\" 200 -\n"
     ]
    },
    {
     "name": "stdout",
     "output_type": "stream",
     "text": [
      "---server/get_vis_rec\n",
      "getVisRec : 0.0029916763305664062\n",
      "---server/getChartData\n",
      "---server/getChartData\n",
      "---server/getChartData\n",
      "---server/getChartData\n",
      "---server/getChartData\n",
      "---server/getChartData\n",
      "---server/getChartData\n"
     ]
    },
    {
     "name": "stderr",
     "output_type": "stream",
     "text": [
      "127.0.0.1 - - [12/Nov/2020 09:50:09] \"\u001b[37mPOST /get_seq_data HTTP/1.1\u001b[0m\" 200 -\n"
     ]
    },
    {
     "name": "stdout",
     "output_type": "stream",
     "text": [
      "---server/get_seq_data\n"
     ]
    },
    {
     "name": "stderr",
     "output_type": "stream",
     "text": [
      "[2020-11-12 09:50:11,789] ERROR in app: Exception on /get_vis_rec [POST]\n",
      "Traceback (most recent call last):\n",
      "  File \"C:\\Users\\user\\anaconda3\\lib\\site-packages\\flask\\app.py\", line 2446, in wsgi_app\n",
      "    response = self.full_dispatch_request()\n",
      "  File \"C:\\Users\\user\\anaconda3\\lib\\site-packages\\flask\\app.py\", line 1951, in full_dispatch_request\n",
      "    rv = self.handle_user_exception(e)\n",
      "  File \"C:\\Users\\user\\anaconda3\\lib\\site-packages\\flask\\app.py\", line 1820, in handle_user_exception\n",
      "    reraise(exc_type, exc_value, tb)\n",
      "  File \"C:\\Users\\user\\anaconda3\\lib\\site-packages\\flask\\_compat.py\", line 39, in reraise\n",
      "    raise value\n",
      "  File \"C:\\Users\\user\\anaconda3\\lib\\site-packages\\flask\\app.py\", line 1949, in full_dispatch_request\n",
      "    rv = self.dispatch_request()\n",
      "  File \"C:\\Users\\user\\anaconda3\\lib\\site-packages\\flask\\app.py\", line 1935, in dispatch_request\n",
      "    return self.view_functions[rule.endpoint](**req.view_args)\n",
      "  File \"<ipython-input-1-130067b3bc69>\", line 269, in get_vis_rec\n",
      "    model,init_model_option = Utility.trainRegression(train_X,decay_labels,model,init_model_option)\n",
      "  File \"D:\\_交大課程_\\VisGuide_Handover\\VisGuide-master\\src\\Utility.py\", line 222, in trainRegression\n",
      "    regressionModel = model.fit(X, y)\n",
      "AttributeError: 'NoneType' object has no attribute 'fit'\n",
      "127.0.0.1 - - [12/Nov/2020 09:50:11] \"\u001b[35m\u001b[1mPOST /get_vis_rec HTTP/1.1\u001b[0m\" 500 -\n"
     ]
    },
    {
     "name": "stdout",
     "output_type": "stream",
     "text": [
      "---server/get_vis_rec\n",
      "Train regression, len (y) =  14\n"
     ]
    },
    {
     "name": "stderr",
     "output_type": "stream",
     "text": [
      "127.0.0.1 - - [12/Nov/2020 09:50:33] \"\u001b[37mPOST /get_datasets HTTP/1.1\u001b[0m\" 200 -\n"
     ]
    },
    {
     "name": "stdout",
     "output_type": "stream",
     "text": [
      "---server/get_datasets\n"
     ]
    },
    {
     "name": "stderr",
     "output_type": "stream",
     "text": [
      "127.0.0.1 - - [12/Nov/2020 09:50:42] \"\u001b[37mPOST /get_options HTTP/1.1\u001b[0m\" 200 -\n"
     ]
    },
    {
     "name": "stdout",
     "output_type": "stream",
     "text": [
      "---server/get_options\n"
     ]
    },
    {
     "name": "stderr",
     "output_type": "stream",
     "text": [
      "127.0.0.1 - - [12/Nov/2020 09:50:44] \"\u001b[37mPOST /get_init_chart HTTP/1.1\u001b[0m\" 200 -\n",
      "127.0.0.1 - - [12/Nov/2020 09:50:44] \"\u001b[37mPOST /get_seq_data HTTP/1.1\u001b[0m\" 200 -\n"
     ]
    },
    {
     "name": "stdout",
     "output_type": "stream",
     "text": [
      "---server/get_init_chart\n",
      "---server/getInitChart\n",
      "---server/getChartData\n",
      "---server/get_seq_data\n",
      "---server/get_vis_rec\n"
     ]
    },
    {
     "name": "stderr",
     "output_type": "stream",
     "text": [
      "127.0.0.1 - - [12/Nov/2020 09:50:47] \"\u001b[37mPOST /get_vis_rec HTTP/1.1\u001b[0m\" 200 -\n"
     ]
    },
    {
     "name": "stdout",
     "output_type": "stream",
     "text": [
      "getVisRec : 0.42000818252563477\n",
      "---server/getChartData\n",
      "---server/getChartData\n",
      "---server/getChartData\n",
      "---server/getChartData\n",
      "---server/getChartData\n",
      "---server/getChartData\n",
      "---server/getChartData\n"
     ]
    },
    {
     "name": "stderr",
     "output_type": "stream",
     "text": [
      "127.0.0.1 - - [12/Nov/2020 09:50:48] \"\u001b[37mPOST /get_seq_data HTTP/1.1\u001b[0m\" 200 -\n"
     ]
    },
    {
     "name": "stdout",
     "output_type": "stream",
     "text": [
      "---server/get_seq_data\n"
     ]
    },
    {
     "name": "stderr",
     "output_type": "stream",
     "text": [
      "127.0.0.1 - - [12/Nov/2020 09:50:52] \"\u001b[37mPOST /get_seq_data HTTP/1.1\u001b[0m\" 200 -\n"
     ]
    },
    {
     "name": "stdout",
     "output_type": "stream",
     "text": [
      "---server/get_seq_data\n"
     ]
    },
    {
     "name": "stderr",
     "output_type": "stream",
     "text": [
      "[2020-11-12 09:51:08,146] ERROR in app: Exception on /get_vis_rec [POST]\n",
      "Traceback (most recent call last):\n",
      "  File \"C:\\Users\\user\\anaconda3\\lib\\site-packages\\flask\\app.py\", line 2446, in wsgi_app\n",
      "    response = self.full_dispatch_request()\n",
      "  File \"C:\\Users\\user\\anaconda3\\lib\\site-packages\\flask\\app.py\", line 1951, in full_dispatch_request\n",
      "    rv = self.handle_user_exception(e)\n",
      "  File \"C:\\Users\\user\\anaconda3\\lib\\site-packages\\flask\\app.py\", line 1820, in handle_user_exception\n",
      "    reraise(exc_type, exc_value, tb)\n",
      "  File \"C:\\Users\\user\\anaconda3\\lib\\site-packages\\flask\\_compat.py\", line 39, in reraise\n",
      "    raise value\n",
      "  File \"C:\\Users\\user\\anaconda3\\lib\\site-packages\\flask\\app.py\", line 1949, in full_dispatch_request\n",
      "    rv = self.dispatch_request()\n",
      "  File \"C:\\Users\\user\\anaconda3\\lib\\site-packages\\flask\\app.py\", line 1935, in dispatch_request\n",
      "    return self.view_functions[rule.endpoint](**req.view_args)\n",
      "  File \"<ipython-input-1-130067b3bc69>\", line 269, in get_vis_rec\n",
      "    model,init_model_option = Utility.trainRegression(train_X,decay_labels,model,init_model_option)\n",
      "  File \"D:\\_交大課程_\\VisGuide_Handover\\VisGuide-master\\src\\Utility.py\", line 222, in trainRegression\n",
      "    regressionModel = model.fit(X, y)\n",
      "AttributeError: 'NoneType' object has no attribute 'fit'\n",
      "127.0.0.1 - - [12/Nov/2020 09:51:08] \"\u001b[35m\u001b[1mPOST /get_vis_rec HTTP/1.1\u001b[0m\" 500 -\n"
     ]
    },
    {
     "name": "stdout",
     "output_type": "stream",
     "text": [
      "---server/get_vis_rec\n",
      "Train regression, len (y) =  21\n"
     ]
    }
   ],
   "source": [
    "from flask import Flask,request,flash,jsonify,make_response\n",
    "import json\n",
    "import random\n",
    "from itertools import chain\n",
    "import ToolFunc as tool\n",
    "import VisRecommendation\n",
    "import Utility\n",
    "\n",
    "tool.init() # read data,calculate data informations\n",
    "dataInfos = tool.dataInfos\n",
    "#enumerateVizs = dataInfos[tool.curr_data]['enumerateVizs'] # get all column combination of the VisrootVizs = [vis for vis in enumerateVizs if len(vis.filter)==0]    \n",
    "#rootVizs = dataInfos[tool.curr_data]['rootVizs']\n",
    "train_X = []\n",
    "train_y = []\n",
    "model = None\n",
    "init_model_option = \"\" # scratch, pretrain, transfer, heuristic\n",
    "init = True  #是否為新user\n",
    "\n",
    "#set init vis feature\n",
    "for dataName,dataInfo in dataInfos.items():\n",
    "    for vis in dataInfo['enumerateVizs']:\n",
    "        tool.curr_data = dataName \n",
    "        Utility.setVisFeature(vis,True)\n",
    "\n",
    "\n",
    "def getInitChart(rootVizs,x,y):\n",
    "    print(\"---server/getInitChart\")\n",
    "    vis = None\n",
    "\n",
    "    for vis in rootVizs:\n",
    "        if vis.x==x and vis.y==y:\n",
    "            vis.par_vis = None\n",
    "            return vis                    \n",
    "    return None\n",
    "\n",
    "def getChartData(vis,index=None,rank = 0):\n",
    "    print(\"---server/getChartData\")\n",
    "    global enumerateVizs\n",
    "    \n",
    "    if not index:\n",
    "        _,chart_index = tool.hasSameVis(vis,enumerateVizs)\n",
    "    else:\n",
    "        chart_index = index\n",
    "\n",
    "    if vis.x in tool.dataInfos[tool.curr_data]['nominal']:\n",
    "        sorted_group = dict(sorted(vis.subgroup.items(),key=lambda x : x[1],reverse=True))\n",
    "    else:\n",
    "        sorted_group = vis.subgroup\n",
    "    values = list(map(lambda value:round(value,2),list(sorted_group.values())))\n",
    "    keys = list(sorted_group.keys())\n",
    "    label = 'Overall' if len(vis.filter) == 0 else ', '.join([key+':'+','.join(list(map(lambda value:str(value) if value!=\"\" else \"none\",value))) for key,value in vis.filter.items()])\n",
    "    data = {\n",
    "        'x':vis.x,\n",
    "        'y':vis.y + '(' + vis.y_aggre+')' if vis.y!=vis.x else \"percentage of count\",\n",
    "        'y_glo_aggre':vis.globalAggre,\n",
    "        'type':vis.mark,\n",
    "        'labels':keys,\n",
    "        'datas':[\n",
    "            {\n",
    "                'data':values,\n",
    "                'label':label,      \n",
    "            },\n",
    "        ],\n",
    "        'chart_index': chart_index,\n",
    "        'label':0,\n",
    "        'rank':rank,\n",
    "        'otherInfo':{},\n",
    "        'rec':{},\n",
    "        'is_selected':False,\n",
    "        'insights': {insight[\"key\"]:insight[\"insightType\"] for insight in vis.insights},\n",
    "        'filters':vis.filter,           \n",
    "        'expandType': vis.expandType,\n",
    "        'aggre':vis.y_aggre,\n",
    "        'sort':'desc',\n",
    "        'multiple_yAxes':False\n",
    "\n",
    "    }\n",
    "    \n",
    "    if vis.pre_vis and vis.x == vis.pre_vis.x and vis.y == vis.pre_vis.y:\n",
    "        data[\"multiple_yAxes\"] = True\n",
    "        data['datas'].append({\n",
    "            'data': list(map(lambda value: round(value,2),[vis.pre_vis.subgroup[key] for key in keys])),\n",
    "            'label' : 'Overall'            \n",
    "        })\n",
    "\n",
    "    return data\n",
    "\n",
    "def changeData(dataset_name,get_data=None):\n",
    "    print(\"---server/changeData\")\n",
    "    global model,dataInfos,train_X,train_y,enumerateVizs,rootVizs\n",
    "    # store current model\n",
    "\n",
    "    #store information\n",
    "    if get_data!=None and len(list(get_data.keys()))>3:\n",
    "        print('save info')\n",
    "        save_data = {key:value for key,value in get_data.items() if key!='dataset_name'}\n",
    "        \n",
    "        tool.wirteFile(save_data[\"store_dataset\"],save_data)\n",
    "\n",
    "        print('save curr model:',tool.curr_data)\n",
    "        tool.save_data(model,save_data[\"store_dataset\"])\n",
    "        \n",
    "        '''\n",
    "        print('save training data:')\n",
    "        tool.save_training_data(train_X,'train_X')\n",
    "        tool.save_training_data(train_y,'train_y')\n",
    "        '''\n",
    "\n",
    "    #reset information\n",
    "    tool.curr_data = dataset_name\n",
    "    enumerateVizs = dataInfos[tool.curr_data]['enumerateVizs'] # get all column combination of the VisrootVizs = [vis for vis in enumerateVizs if len(vis.filter)==0]    \n",
    "    rootVizs = dataInfos[tool.curr_data]['rootVizs']\n",
    "    train_X = []\n",
    "    train_y = []\n",
    "    #cross_init = True\n",
    "    \n",
    "\n",
    "\n",
    "app = Flask(__name__)\n",
    "\n",
    "@app.route('/get_datasets',methods=['GET','POST'])\n",
    "def get_datasets():\n",
    "    print(\"---server/get_datasets\")\n",
    "    if request.method == 'POST':\n",
    "        datasets= [{\"name\":key} for key in list(dataInfos.keys())]\n",
    "        \n",
    "    rst = jsonify(datasets)   \n",
    "    rst.headers.add('Access-Control-Allow-Origin', '*')\n",
    "\n",
    "    return rst,200\n",
    "\n",
    "    \n",
    "\n",
    "@app.route('/get_options',methods=['GET','POST'])\n",
    "def get_options():\n",
    "    print(\"---server/get_options\")\n",
    "    global enumerateVizs,dataInfos,rootVizs,model,train_X,train_y,init,init_model_option\n",
    "    if request.method == 'POST':\n",
    "        get_data = json.loads(request.get_data())\n",
    "        dataset_name = get_data['dataset_name']\n",
    "        \n",
    "        \n",
    "        \n",
    "        if init : \n",
    "            # Init model if a new user come\n",
    "            tool.curr_data = dataset_name\n",
    "            init_model_option = get_data['init_model_option']\n",
    "\n",
    "            if init_model_option == \"scratch\":\n",
    "                print('Model from scratch: ',tool.curr_data)\n",
    "                model = None\n",
    "\n",
    "            elif init_model_option == \"pretrain\":\n",
    "                print(\"Model from pretrain: \" ,tool.curr_data)\n",
    "                model = tool.read_data('AQ_pretrain') if tool.curr_data==\"AQ\"\\\n",
    "                    else tool.read_data('Transaction_pretrain') if tool.curr_data== \"Transaction\"\\\n",
    "                    else None\n",
    "                \n",
    "            elif init_model_option == \"heuristic\":\n",
    "                print(\"Model from heuristic(no model): \" ,tool.curr_data)\n",
    "                model = None\n",
    "            \n",
    "            else:\n",
    "                print(\"Unknown model status\")\n",
    "                model = None\n",
    " \n",
    "            enumerateVizs = dataInfos[tool.curr_data]['enumerateVizs'] # get all column combination of the VisrootVizs = [vis for vis in enumerateVizs if len(vis.filter)==0]    \n",
    "            rootVizs = dataInfos[tool.curr_data]['rootVizs']\n",
    "\n",
    "            init = False\n",
    "        \n",
    "        else:\n",
    "            # change dataset with the same user\n",
    "            if dataset_name!=tool.curr_data:\n",
    "                init_model_option = get_data['init_model_option']\n",
    "                if init_model_option == \"transfer\":\n",
    "                    print(\"Model from transfer: \" ,tool.curr_data)\n",
    "                elif init_model_option == \"heuristic\":\n",
    "                    print(\"Heuristic: \" ,tool.curr_data)\n",
    "                    \n",
    "                changeData(dataset_name,get_data)\n",
    "\n",
    "        #set column options\n",
    "        data_info = tool.dataInfos[dataset_name]\n",
    "        data = {}\n",
    "        data['x_axis'] = [{'name':column}for column in list(data_info['nominal']) if column!=\"title\"]\n",
    "        data['x_axis'].extend([{'name':column}for column in list(data_info['temporal'])])\n",
    "        data['y_axis'] = [{'name':column}for column in list(data_info['quantitative'])]\n",
    "        data['x_default'] = data_info['x_default']\n",
    "        data['y_default'] = data_info['y_default']\n",
    "    \n",
    "    rst = jsonify(data)   \n",
    "    rst.headers.add('Access-Control-Allow-Origin', '*')\n",
    "\n",
    "    return rst,200\n",
    "\n",
    "\n",
    "@app.route('/get_init_chart',methods=['GET','POST'])\n",
    "def get_init_chart():\n",
    "    print(\"---server/get_init_chart\")\n",
    "    global rootVizs\n",
    "    if request.method == 'POST':\n",
    "        get_data = json.loads(request.get_data())\n",
    "        vis = getInitChart(rootVizs,get_data['x'],get_data['y'])\n",
    "        data = getChartData(vis)\n",
    "    \n",
    "    rst = jsonify(data)   \n",
    "    rst.headers.add('Access-Control-Allow-Origin', '*')\n",
    "    \n",
    "\n",
    "    return rst,200\n",
    "\n",
    "@app.route('/update_tr_data',methods=['GET','POST'])\n",
    "def update_tr_data():\n",
    "    print(\"---server/update_tr_data\")\n",
    "    data = {\"update\":False}\n",
    "\n",
    "    if request.method == 'POST':\n",
    "        get_data = json.loads(request.get_data())\n",
    "        \n",
    "        visLabeled = [enumerateVizs[int(key)] for key in get_data['label_data'].keys()]\n",
    "        train_X.extend(list(map(lambda vis : list(chain(*list(vis.features.values()))),visLabeled)))\n",
    "        train_y.append(list(map(lambda y:float(y),list(get_data['label_data'].values()))))\n",
    "        print(\"update training data, len(x) = \" + str(len(train_X)))\n",
    "        data[\"update\"] = True\n",
    "\n",
    "    rst = jsonify(data)   \n",
    "    rst.headers.add('Access-Control-Allow-Origin', '*')\n",
    "    \n",
    "    return rst,200\n",
    "\n",
    "@app.route('/get_vis_rec',methods=['GET','POST'])\n",
    "def get_vis_rec():\n",
    "    print(\"---server/get_vis_rec\")\n",
    "    global enumerateVizs,model,train_X,train_y,init_model_option\n",
    "    data = {}\n",
    "    \n",
    "    if request.method == 'POST':\n",
    "        get_data = json.loads(request.get_data())\n",
    "        tree_vizs =[enumerateVizs[int(index)] for index in get_data[\"chart_indices\"]]  # vis index of chart in the tree view\n",
    "        userSelectedVis = enumerateVizs[int(get_data['chart_index'])]\n",
    "        par_vizs = Utility.getAllParVis(userSelectedVis)\n",
    "        userSelectedInsight = Utility.getUserSelectedInsight(userSelectedVis,get_data['click_item'])\n",
    "\n",
    "        if not userSelectedInsight:\n",
    "                userSelectedInsight={}\n",
    "                userSelectedInsight['insightType'] = 'none',\n",
    "                userSelectedInsight['key'] = get_data['click_item']\n",
    "        \n",
    "        if init_model_option != \"heuristic\":\n",
    "            # no need to train model if the model option == heuristic \n",
    "            # train model based on the label_data\n",
    "\n",
    "            if init_model_option == \"transfer\":\n",
    "                train_X.extend([list(chain(*list(userSelectedVis.features.values())))])\n",
    "                train_y = [[0.0]]\n",
    "                decay_labels = [0.0]\n",
    "                print('cross init feature length:',len(list(chain(*list(userSelectedVis.features.values())))))\n",
    "\n",
    "                model,init_model_option = Utility.trainRegression(train_X,decay_labels,model,init_model_option)\n",
    "            elif (len(get_data['label_data'])>1):\n",
    "                #get training data\n",
    "                visLabeled = [enumerateVizs[int(key)] for key in get_data['label_data'].keys()]        \n",
    "                train_X.extend(list(map(lambda vis : list(chain(*list(vis.features.values()))),visLabeled)))\n",
    "                train_y.append(list(map(lambda y:float(y),list(get_data['label_data'].values()))))\n",
    "                decay_labels = Utility.getDecayingLabel(train_y)\n",
    "\n",
    "                #train model\n",
    "                model,init_model_option = Utility.trainRegression(train_X,decay_labels,model,init_model_option)\n",
    "            \n",
    "        #get rec based on the regression model\n",
    "        type1_visRec,type2_visRec = VisRecommendation.getVisRec(par_vizs,userSelectedInsight,enumerateVizs,model,tree_vizs)\n",
    "                 \n",
    "        data['type1'] = [getChartData(vis,rank=i+1) for i,vis in enumerate(type1_visRec)]\n",
    "        data['type2'] = [getChartData(vis,rank=i+1) for i,vis in enumerate(type2_visRec)]\n",
    "\n",
    "    rst = jsonify(data)   \n",
    "    rst.headers.add('Access-Control-Allow-Origin', '*')\n",
    "    \n",
    "    return rst,200\n",
    "\n",
    "@app.route('/get_chart_by_index',methods=['GET','POST'])\n",
    "def get_chart_by_index():\n",
    "    print(\"---server/get_chart_by_index\")\n",
    "    global enumerateVizs\n",
    "    if request.method == 'POST':\n",
    "        get_data = json.loads(request.get_data())\n",
    "        chart_index = int(get_data['chart_index'])\n",
    "        data = getChartData(enumerateVizs[chart_index],chart_index)\n",
    "    \n",
    "    rst = jsonify(data)   \n",
    "    rst.headers.add('Access-Control-Allow-Origin', '*')\n",
    "\n",
    "    return rst,200\n",
    "\n",
    "@app.route('/get_new_data',methods=['GET','POST'])\n",
    "def get_new_data():\n",
    "    print(\"---server/get_new_data\")\n",
    "    global enumerateVizs,dataInfos\n",
    "    data = {}\n",
    "    if request.method == 'POST':\n",
    "        get_data = json.loads(request.get_data())\n",
    "        chart_index = int(get_data['chart_index'])\n",
    "        aggre = get_data['aggre']\n",
    "        sort = get_data['sort']\n",
    "        vis = enumerateVizs[chart_index]\n",
    "\n",
    "        # new aggre\n",
    "        data[\"y\"] = vis.y + '(' + aggre+')' if vis.y!=vis.x else \"percentage of count\",\n",
    "\n",
    "        # new sorted_group\n",
    "        data[\"datas\"] = []\n",
    "        \n",
    "        ### subset\n",
    "        subgroup = vis.getSubgroup(aggre) if (vis.x != vis.y) else vis.subgroup\n",
    "        \n",
    "        # sorted based on the sort option\n",
    "        sorted_group = subgroup\n",
    "        if vis.x in tool.dataInfos[tool.curr_data]['nominal']:\n",
    "            if sort == \"desc\":\n",
    "                sorted_group = dict(sorted(subgroup.items(),key=lambda x : x[1],reverse=True))\n",
    "            elif sort == \"asc\":\n",
    "                sorted_group = dict(sorted(subgroup.items(),key=lambda x : x[1]))\n",
    "      \n",
    "\n",
    "        data[\"datas\"].append(list(map(lambda value:round(value,2),list(sorted_group.values()))))\n",
    "        \n",
    "        # sorted labels\n",
    "        labels = list(sorted_group.keys())\n",
    "        data[\"labels\"] = labels\n",
    "\n",
    "        ### overall\n",
    "        if vis.pre_vis and vis.x == vis.pre_vis.x and vis.y == vis.pre_vis.y:\n",
    "            pre_subgroup = vis.pre_vis.getSubgroup(aggre) if (vis.x != vis.y) else vis.pre_vis.subgroup\n",
    "            data[\"datas\"].append(list(map(lambda value: round(value,2),[pre_subgroup[key] for key in labels])))\n",
    "            \n",
    "        # new insight\n",
    "    \n",
    "    rst = jsonify(data)   \n",
    "    rst.headers.add('Access-Control-Allow-Origin', '*')\n",
    "\n",
    "    return rst,200\n",
    "\n",
    "\n",
    "@app.route('/update_dataset',methods=['GET','POST'])\n",
    "def update_dataset():\n",
    "    print(\"---server/update_dataset\")\n",
    "    if request.method == 'POST':\n",
    "        get_data = json.loads(request.get_data())\n",
    "        dataset_name = get_data['dataset_name']\n",
    "        changeData(dataset_name)\n",
    "    \n",
    "    data ={}\n",
    "    rst = jsonify(data)   \n",
    "    rst.headers.add('Access-Control-Allow-Origin', '*')\n",
    "    return rst,200\n",
    "\n",
    "@app.route('/get_seq_data',methods=['GET','POST'])\n",
    "def get_seq_data():\n",
    "    print(\"---server/get_seq_data\")\n",
    "    if request.method == 'POST':\n",
    "        get_data = json.loads(request.get_data())\n",
    "        data = get_data['data']\n",
    "\n",
    "        if len(data)>0:\n",
    "            node = {\n",
    "                'innerHTML': list(data.keys())[0],\n",
    "                'pseudo': True,\n",
    "            }\n",
    "            stacks = [node]\n",
    "\n",
    "            while(stacks):\n",
    "                curr = stacks[-1]\n",
    "                stacks.pop()\n",
    "                \n",
    "                if len(data[curr['innerHTML']])>0:\n",
    "                    curr['connectors'] = {\n",
    "                        \"style\":{\n",
    "                            \"stroke-width\": 0.0\n",
    "                        }\n",
    "                    }\n",
    "                    curr['children'] = [{'innerHTML':child} for child in data[curr['innerHTML']]]\n",
    "                    stacks.extend(curr['children'])\n",
    "        else:\n",
    "            node = {}\n",
    "            \n",
    "    rst = jsonify(node)   \n",
    "    rst.headers.add('Access-Control-Allow-Origin', '*')\n",
    "    return rst,200\n",
    "\n",
    "@app.route('/change_user',methods=['GET','POST'])\n",
    "def change_user():\n",
    "    print(\"---server/change_user\")\n",
    "    global enumerateVizs,rootVizs,model,train_X,train_y,init\n",
    "    if request.method == 'POST':\n",
    "        get_data = json.loads(request.get_data())\n",
    "        dataset = get_data['dataset']\n",
    "        \n",
    "        #save data\n",
    "        print('save infos: ',tool.curr_data)\n",
    "        save_data = {key:value for key,value in get_data.items() if key!='dataset'}\n",
    "        tool.wirteFile(save_data[\"store_dataset\"],save_data)\n",
    "        tool.save_data(model,save_data[\"store_dataset\"])\n",
    "        \n",
    "        print('save training data:')\n",
    "        tool.save_training_data(train_X,'train_X')\n",
    "        tool.save_training_data(train_y,'train_y')\n",
    "\n",
    "        # Reset variables\n",
    "        tool.curr_data = dataset\n",
    "        enumerateVizs = dataInfos[tool.curr_data]['enumerateVizs'] # get all column combination of the VisrootVizs = [vis for vis in enumerateVizs if len(vis.filter)==0]    \n",
    "        rootVizs = dataInfos[tool.curr_data]['rootVizs']\n",
    "        \n",
    "        for vis in enumerateVizs:\n",
    "            vis.par_vis = None\n",
    "            vis.children = {}\n",
    "\n",
    "        train_X = []\n",
    "        train_y = []\n",
    "        init = True\n",
    "        model = None\n",
    "\n",
    "        '''\n",
    "        if dataset==\"AQ\" or dataset ==\"Transaction\":\n",
    "            model = tool.read_data('AQ_pretrain') if dataset==\"AQ\" else tool.read_data('Transaction_pretrain')\n",
    "            print(\"model init:\" ,dataset)\n",
    "            from_scratch = False\n",
    "        else:\n",
    "            model = \"\"\n",
    "            print(\"model:\" ,dataset)\n",
    "            from_scratch = True\n",
    "        '''\n",
    "        # cross_init = False\n",
    "    \n",
    "    data ={}\n",
    "    rst = jsonify(data)   \n",
    "    rst.headers.add('Access-Control-Allow-Origin', '*')\n",
    "    return rst,200\n",
    "\n",
    "@app.route('/save_dataInfo',methods=['GET','POST'])\n",
    "def save_dataInfo():\n",
    "    print(\"---server/save_dataInfo\")\n",
    "    if request.method == 'POST':\n",
    "        print(\"save dataInfo\")\n",
    "        tool.save_dill(tool.dataInfos,tool.dataInfos_path)\n",
    "        tool.save_dill(tool.Vis.index,tool.Vis_index_path)\n",
    "\n",
    "    data ={}\n",
    "    rst = jsonify(data)   \n",
    "    rst.headers.add('Access-Control-Allow-Origin', '*')\n",
    "    return rst,200\n",
    "\n",
    "if __name__ == \"__main__\":\n",
    "    app.run()\n",
    "    #app.run(debug=True,port=5000)\n",
    "    #app.run(host=\"192.168.0.1\",port=5010) #設定特定的IP"
   ]
  }
 ],
 "metadata": {
  "kernelspec": {
   "display_name": "Python 3",
   "language": "python",
   "name": "python3"
  },
  "language_info": {
   "codemirror_mode": {
    "name": "ipython",
    "version": 3
   },
   "file_extension": ".py",
   "mimetype": "text/x-python",
   "name": "python",
   "nbconvert_exporter": "python",
   "pygments_lexer": "ipython3",
   "version": "3.7.6"
  }
 },
 "nbformat": 4,
 "nbformat_minor": 2
}
